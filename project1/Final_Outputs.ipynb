{
 "cells": [
  {
   "cell_type": "code",
   "execution_count": null,
   "metadata": {},
   "outputs": [],
   "source": [
    "from Project1_BayesianStructureLearning import *"
   ]
  },
  {
   "cell_type": "code",
   "execution_count": null,
   "metadata": {},
   "outputs": [],
   "source": [
    "small_bsl = BayesianStructureLearning('data/small.csv', 'small.gph')\n",
    "medium_bsl = BayesianStructureLearning('data/medium.csv', 'medium.gph')\n",
    "large_bsl = BayesianStructureLearning('data/large.csv', 'large.gph')"
   ]
  },
  {
   "cell_type": "code",
   "execution_count": 3,
   "metadata": {},
   "outputs": [
    {
     "name": "stdout",
     "output_type": "stream",
     "text": [
      "Write Graph Complete\n",
      "\n",
      "Solve Complete with Score:\n",
      "-3866.650626380828\n",
      "\n",
      "Runtime (s):\n",
      "8.42171502113\n"
     ]
    }
   ],
   "source": [
    "small_bsl.solve_timed()"
   ]
  },
  {
   "cell_type": "code",
   "execution_count": 4,
   "metadata": {},
   "outputs": [
    {
     "name": "stdout",
     "output_type": "stream",
     "text": [
      "Write Graph Complete\n",
      "\n",
      "Solve Complete with Score:\n",
      "-42810.96463859752\n",
      "\n",
      "Runtime (s):\n",
      "321.023355007\n"
     ]
    }
   ],
   "source": [
    "medium_bsl.solve_timed()"
   ]
  },
  {
   "cell_type": "code",
   "execution_count": null,
   "metadata": {},
   "outputs": [
    {
     "name": "stdout",
     "output_type": "stream",
     "text": [
      "Write Graph Complete\n",
      "\n",
      "Graph Overwritten. Still Solving. Score:\n",
      "-497200.23502543\n"
     ]
    }
   ],
   "source": [
    "large_bsl.solve_timed()"
   ]
  }
 ],
 "metadata": {
  "kernelspec": {
   "display_name": "Python 2",
   "language": "python",
   "name": "python2"
  },
  "language_info": {
   "codemirror_mode": {
    "name": "ipython",
    "version": 2
   },
   "file_extension": ".py",
   "mimetype": "text/x-python",
   "name": "python",
   "nbconvert_exporter": "python",
   "pygments_lexer": "ipython2",
   "version": "2.7.18"
  }
 },
 "nbformat": 4,
 "nbformat_minor": 2
}
