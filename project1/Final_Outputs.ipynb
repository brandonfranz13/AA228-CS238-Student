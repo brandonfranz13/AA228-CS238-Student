{
 "cells": [
  {
   "cell_type": "code",
   "execution_count": 1,
   "metadata": {},
   "outputs": [],
   "source": [
    "from Project1_BayesianStructureLearning import *"
   ]
  },
  {
   "cell_type": "code",
   "execution_count": 2,
   "metadata": {},
   "outputs": [],
   "source": [
    "small_bsl = BayesianStructureLearning('data/small.csv', 'small.gph')\n",
    "medium_bsl = BayesianStructureLearning('data/medium.csv', 'medium.gph')\n",
    "large_bsl = BayesianStructureLearning('data/large.csv', 'large.gph')"
   ]
  },
  {
   "cell_type": "code",
   "execution_count": 3,
   "metadata": {},
   "outputs": [
    {
     "name": "stdout",
     "output_type": "stream",
     "text": [
      "Write Graph Complete\n",
      "\n",
      "Solve Complete with Score:\n",
      "-3866.650626380828\n",
      "\n",
      "Runtime (s):\n",
      "8.42171502113\n"
     ]
    }
   ],
   "source": [
    "small_bsl.solve_timed()"
   ]
  },
  {
   "cell_type": "code",
   "execution_count": 3,
   "metadata": {},
   "outputs": [],
   "source": [
    "nodeNames, data = small_bsl.importCSV()\n",
    "graph = small_bsl.buildGraph(nodeNames, 'small.gph')\n",
    "small_bsl.exportGraph(graph, 'small.txt')"
   ]
  },
  {
   "cell_type": "code",
   "execution_count": 4,
   "metadata": {},
   "outputs": [
    {
     "name": "stdout",
     "output_type": "stream",
     "text": [
      "Write Graph Complete\n",
      "\n",
      "Solve Complete with Score:\n",
      "-42810.96463859752\n",
      "\n",
      "Runtime (s):\n",
      "321.023355007\n"
     ]
    }
   ],
   "source": [
    "medium_bsl.solve_timed()"
   ]
  },
  {
   "cell_type": "code",
   "execution_count": 4,
   "metadata": {},
   "outputs": [],
   "source": [
    "nodeNames, data = medium_bsl.importCSV()\n",
    "graph = medium_bsl.buildGraph(nodeNames, 'medium.gph')\n",
    "medium_bsl.exportGraph(graph, 'medium.txt')"
   ]
  },
  {
   "cell_type": "code",
   "execution_count": null,
   "metadata": {},
   "outputs": [
    {
     "name": "stdout",
     "output_type": "stream",
     "text": [
      "Write Graph Complete\n",
      "\n",
      "Graph Overwritten. Still Solving. Score:\n",
      "-497120.9049572371\n",
      "Write Graph Complete\n",
      "\n",
      "Graph Overwritten. Still Solving. Score:\n",
      "-496145.5197739366\n",
      "Write Graph Complete\n",
      "\n",
      "Graph Overwritten. Still Solving. Score:\n",
      "-495652.7068498912\n"
     ]
    }
   ],
   "source": [
    "large_bsl.solve_timed()"
   ]
  },
  {
   "cell_type": "code",
   "execution_count": 5,
   "metadata": {},
   "outputs": [],
   "source": [
    "nodeNames, data = large_bsl.importCSV()\n",
    "graph = large_bsl.buildGraph(nodeNames, 'large.gph')\n",
    "small_bsl.exportGraph(graph, 'small.txt')"
   ]
  }
 ],
 "metadata": {
  "kernelspec": {
   "display_name": "Python 2",
   "language": "python",
   "name": "python2"
  },
  "language_info": {
   "codemirror_mode": {
    "name": "ipython",
    "version": 2
   },
   "file_extension": ".py",
   "mimetype": "text/x-python",
   "name": "python",
   "nbconvert_exporter": "python",
   "pygments_lexer": "ipython2",
   "version": "2.7.18"
  }
 },
 "nbformat": 4,
 "nbformat_minor": 2
}
