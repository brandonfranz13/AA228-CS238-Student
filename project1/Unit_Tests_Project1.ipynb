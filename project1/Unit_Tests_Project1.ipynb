{
 "cells": [
  {
   "cell_type": "code",
   "execution_count": 1,
   "metadata": {},
   "outputs": [],
   "source": [
    "from Project1_BayesianStructureLearning import *"
   ]
  },
  {
   "cell_type": "code",
   "execution_count": 2,
   "metadata": {},
   "outputs": [
    {
     "name": "stdout",
     "output_type": "stream",
     "text": [
      "[[3 3 2 3 1 3]\n",
      " [1 3 2 3 2 3]\n",
      " [3 1 1 2 3 1]\n",
      " [1 3 1 2 3 2]\n",
      " [2 3 3 2 2 1]\n",
      " [1 3 1 1 1 3]\n",
      " [1 3 3 1 2 3]\n",
      " [3 3 2 3 1 3]\n",
      " [1 3 1 3 2 1]\n",
      " [3 1 1 3 3 3]\n",
      " [2 3 3 3 2 3]\n",
      " [2 3 2 3 3 3]\n",
      " [2 2 3 1 1 3]\n",
      " [2 3 3 3 2 3]\n",
      " [1 1 2 3 3 2]\n",
      " [2 2 1 3 2 3]\n",
      " [1 2 1 3 2 3]\n",
      " [3 1 1 3 1 2]\n",
      " [3 1 1 3 3 3]\n",
      " [1 3 1 2 3 1]]\n",
      "Import CSV Complete\n",
      "\n",
      "Graph Search Complete\n",
      "\n",
      "Scoring Complete\n",
      "\n",
      "Write Graph Complete\n",
      "\n",
      "Solve Complete\n",
      "\n"
     ]
    }
   ],
   "source": [
    "bsl = BayesianStructureLearning('example/example.csv', 'test.gph')\n",
    "bsl.solve()"
   ]
  },
  {
   "cell_type": "code",
   "execution_count": null,
   "metadata": {},
   "outputs": [],
   "source": [
    "import networkx as nx\n",
    "import numpy as np\n",
    "\n",
    "g = nx.DiGraph()\n",
    "nodes = [0,1,2,3,]"
   ]
  },
  {
   "cell_type": "code",
   "execution_count": 8,
   "metadata": {},
   "outputs": [
    {
     "name": "stdout",
     "output_type": "stream",
     "text": [
      "[0, 1, 2, 3]\n",
      "[[], [], [], [0, 1, 2]]\n",
      "[1.0, 1.0, 1.0, 8]\n"
     ]
    }
   ],
   "source": [
    "import networkx as nx\n",
    "import numpy as np\n",
    "\n",
    "g = nx.DiGraph()\n",
    "g.add_node(0)\n",
    "g.add_node(1)\n",
    "g.add_node(2)\n",
    "g.add_node(3)\n",
    "g.add_edge(0,3)\n",
    "g.add_edge(1,3)\n",
    "g.add_edge(2,3)\n",
    "variables = list(g.nodes())\n",
    "\n",
    "parents = [list(g.predecessors(var)) for var in variables]\n",
    "numValues = [2,2,2,3]\n",
    "q = [np.prod([numValues[parent] for parent in parents[var][:]]) for var in variables]\n",
    "print(variables)\n",
    "print(parents)\n",
    "print(q)"
   ]
  },
  {
   "cell_type": "code",
   "execution_count": 9,
   "metadata": {},
   "outputs": [
    {
     "data": {
      "text/plain": [
       "array([[3, 3, 2, 3, 1, 3],\n",
       "       [1, 3, 2, 3, 2, 3],\n",
       "       [3, 1, 1, 2, 3, 1],\n",
       "       [1, 3, 1, 2, 3, 2],\n",
       "       [2, 3, 3, 2, 2, 1],\n",
       "       [1, 3, 1, 1, 1, 3],\n",
       "       [1, 3, 3, 1, 2, 3],\n",
       "       [3, 3, 2, 3, 1, 3],\n",
       "       [1, 3, 1, 3, 2, 1],\n",
       "       [3, 1, 1, 3, 3, 3],\n",
       "       [2, 3, 3, 3, 2, 3],\n",
       "       [2, 3, 2, 3, 3, 3],\n",
       "       [2, 2, 3, 1, 1, 3],\n",
       "       [2, 3, 3, 3, 2, 3],\n",
       "       [1, 1, 2, 3, 3, 2],\n",
       "       [2, 2, 1, 3, 2, 3],\n",
       "       [1, 2, 1, 3, 2, 3],\n",
       "       [3, 1, 1, 3, 1, 2],\n",
       "       [3, 1, 1, 3, 3, 3],\n",
       "       [1, 3, 1, 2, 3, 1]])"
      ]
     },
     "execution_count": 9,
     "metadata": {},
     "output_type": "execute_result"
    }
   ],
   "source": [
    "import pandas as pd\n",
    "\n",
    "pd.read_csv('example/example.csv').to_numpy()"
   ]
  }
 ],
 "metadata": {
  "kernelspec": {
   "display_name": "Python 2",
   "language": "python",
   "name": "python2"
  },
  "language_info": {
   "codemirror_mode": {
    "name": "ipython",
    "version": 2
   },
   "file_extension": ".py",
   "mimetype": "text/x-python",
   "name": "python",
   "nbconvert_exporter": "python",
   "pygments_lexer": "ipython2",
   "version": "2.7.18"
  }
 },
 "nbformat": 4,
 "nbformat_minor": 2
}
