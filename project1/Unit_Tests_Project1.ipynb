{
 "cells": [
  {
   "cell_type": "code",
   "execution_count": null,
   "metadata": {},
   "outputs": [],
   "source": [
    "from Project1_BayesianStructureLearning import *"
   ]
  },
  {
   "cell_type": "code",
   "execution_count": null,
   "metadata": {},
   "outputs": [],
   "source": [
    "bsl = BayesianStructureLearning('example/example.csv', 'test.gph')\n",
    "bsl.solve()"
   ]
  },
  {
   "cell_type": "code",
   "execution_count": 1,
   "metadata": {},
   "outputs": [
    {
     "name": "stdout",
     "output_type": "stream",
     "text": [
      "-200.33480975290504\n",
      "-132.02362143513778\n",
      "Write Graph Complete\n",
      "\n"
     ]
    }
   ],
   "source": [
    "import networkx as nx\n",
    "import numpy as np\n",
    "from Project1_BayesianStructureLearning import *\n",
    "from scipy.special import loggamma\n",
    "\n",
    "g = nx.DiGraph()\n",
    "nodes = [0,1,2,3,4,5]\n",
    "g.add_nodes_from(nodes)\n",
    "edges = [(0,1), (2, 3), (4, 5)]\n",
    "g.add_edges_from(edges)\n",
    "\n",
    "bsl = BayesianStructureLearning('example/example.csv', 'test.gph')\n",
    "variableNames, data = bsl.importCSV()\n",
    "\n",
    "x = bsl.graphData(data, g)\n",
    "\n",
    "variables = list(g.nodes())\n",
    "score = 0\n",
    "alpha = [np.ones_like(x[var]) for var in variables]\n",
    "for var in variables:\n",
    "    p = np.sum(loggamma(alpha[var]+x[var]))\n",
    "    p -= np.sum(loggamma(alpha[var]))\n",
    "    p+= np.sum(loggamma(np.sum(alpha[var])))\n",
    "    p-= np.sum(loggamma(np.sum(alpha[var]) + np.sum(x[var])))\n",
    "    score += p\n",
    "\n",
    "print(score)\n",
    "\n",
    "score = bsl.scoreGraph(data, g)\n",
    "\n",
    "print(score)\n",
    "\n",
    "bsl.writeFile_gph(variableNames, g)\n"
   ]
  },
  {
   "cell_type": "code",
   "execution_count": null,
   "metadata": {},
   "outputs": [],
   "source": [
    "print(x[0][0,0])"
   ]
  },
  {
   "cell_type": "code",
   "execution_count": null,
   "metadata": {},
   "outputs": [],
   "source": [
    "import networkx as nx\n",
    "import numpy as np\n",
    "\n",
    "g = nx.DiGraph()\n",
    "g.add_node(0)\n",
    "g.add_node(1)\n",
    "g.add_node(2)\n",
    "g.add_node(3)\n",
    "g.add_edge(0,3)\n",
    "g.add_edge(1,3)\n",
    "g.add_edge(2,3)\n",
    "variables = list(g.nodes())\n",
    "\n",
    "parents = [list(g.predecessors(var)) for var in variables]\n",
    "numValues = [2,2,2,3]\n",
    "q = [np.prod([numValues[parent] for parent in parents[var][:]]) for var in variables]\n",
    "print(variables)\n",
    "print(parents)\n",
    "print(q)"
   ]
  },
  {
   "cell_type": "code",
   "execution_count": null,
   "metadata": {},
   "outputs": [],
   "source": [
    "import pandas as pd\n",
    "\n",
    "pd.read_csv('example/example.csv').to_numpy()"
   ]
  },
  {
   "cell_type": "code",
   "execution_count": 18,
   "metadata": {},
   "outputs": [
    {
     "name": "stdout",
     "output_type": "stream",
     "text": [
      "[6, 3, 5, 2, 7, 4, 1, 0]\n",
      "[0, 1, 2, 3, 4, 5, 6, 7]\n",
      "[0 1 2 3 4 5 6 7]\n",
      "None\n",
      "-4166.225858784904\n",
      "Write Graph Complete\n",
      "\n"
     ]
    }
   ],
   "source": [
    "from Project1_BayesianStructureLearning import *\n",
    "\n",
    "bsl = BayesianStructureLearning('data/small.csv', 'test.gph')\n",
    "\n",
    "nodeNames, data = bsl.importCSV()\n",
    "\n",
    "graph = bsl.buildNoEdgeGraph(nodeNames)\n",
    "x = list(graph.nodes())\n",
    "np.random.shuffle(x)\n",
    "print x\n",
    "print list(graph.nodes())\n",
    "print np.array(graph.nodes())\n",
    "print np.random.shuffle(np.array(graph.nodes()))\n",
    "m = bsl.graphData(data, graph)\n",
    "score = bsl.scoreGraph(data, graph)\n",
    "print score\n",
    "\n",
    "bsl.writeFile_gph(nodeNames, graph)"
   ]
  },
  {
   "cell_type": "code",
   "execution_count": 2,
   "metadata": {},
   "outputs": [],
   "source": [
    "del bsl"
   ]
  },
  {
   "cell_type": "code",
   "execution_count": 1,
   "metadata": {},
   "outputs": [
    {
     "ename": "ImportError",
     "evalue": "No module named pydot",
     "output_type": "error",
     "traceback": [
      "\u001b[0;31m---------------------------------------------------------------------------\u001b[0m",
      "\u001b[0;31mImportError\u001b[0m                               Traceback (most recent call last)",
      "\u001b[0;32m<ipython-input-1-152b32277e36>\u001b[0m in \u001b[0;36m<module>\u001b[0;34m()\u001b[0m\n\u001b[0;32m----> 1\u001b[0;31m \u001b[0;32mfrom\u001b[0m \u001b[0mProject1_BayesianStructureLearning\u001b[0m \u001b[0;32mimport\u001b[0m \u001b[0;34m*\u001b[0m\u001b[0;34m\u001b[0m\u001b[0m\n\u001b[0m\u001b[1;32m      2\u001b[0m \u001b[0;34m\u001b[0m\u001b[0m\n\u001b[1;32m      3\u001b[0m \u001b[0mbsl\u001b[0m \u001b[0;34m=\u001b[0m \u001b[0mBayesianStructureLearning\u001b[0m\u001b[0;34m(\u001b[0m\u001b[0;34m'data/small.csv'\u001b[0m\u001b[0;34m,\u001b[0m \u001b[0;34m'test.gph'\u001b[0m\u001b[0;34m)\u001b[0m\u001b[0;34m\u001b[0m\u001b[0m\n\u001b[1;32m      4\u001b[0m \u001b[0;34m\u001b[0m\u001b[0m\n\u001b[1;32m      5\u001b[0m \u001b[0mnodeNames\u001b[0m\u001b[0;34m,\u001b[0m \u001b[0mdata\u001b[0m \u001b[0;34m=\u001b[0m \u001b[0mbsl\u001b[0m\u001b[0;34m.\u001b[0m\u001b[0mimportCSV\u001b[0m\u001b[0;34m(\u001b[0m\u001b[0;34m)\u001b[0m\u001b[0;34m\u001b[0m\u001b[0m\n",
      "\u001b[0;32m/home/franzb/aa228_project/project1/Project1_BayesianStructureLearning.py\u001b[0m in \u001b[0;36m<module>\u001b[0;34m()\u001b[0m\n\u001b[1;32m      6\u001b[0m \u001b[0;32mimport\u001b[0m \u001b[0mnetworkx\u001b[0m \u001b[0;32mas\u001b[0m \u001b[0mnx\u001b[0m\u001b[0;34m\u001b[0m\u001b[0m\n\u001b[1;32m      7\u001b[0m \u001b[0;32mimport\u001b[0m \u001b[0mmatplotlib\u001b[0m\u001b[0;34m.\u001b[0m\u001b[0mpyplot\u001b[0m \u001b[0;32mas\u001b[0m \u001b[0mplt\u001b[0m\u001b[0;34m\u001b[0m\u001b[0m\n\u001b[0;32m----> 8\u001b[0;31m \u001b[0;32mimport\u001b[0m \u001b[0mpydot\u001b[0m\u001b[0;34m\u001b[0m\u001b[0m\n\u001b[0m\u001b[1;32m      9\u001b[0m \u001b[0;34m\u001b[0m\u001b[0m\n\u001b[1;32m     10\u001b[0m \u001b[0;32mclass\u001b[0m \u001b[0mBayesianStructureLearning\u001b[0m\u001b[0;34m:\u001b[0m\u001b[0;34m\u001b[0m\u001b[0m\n",
      "\u001b[0;31mImportError\u001b[0m: No module named pydot"
     ]
    }
   ],
   "source": [
    "from Project1_BayesianStructureLearning import *\n",
    "\n",
    "bsl = BayesianStructureLearning('data/small.csv', 'test.gph')\n",
    "\n",
    "nodeNames, data = bsl.importCSV()\n",
    "\n",
    "graph, score = bsl.graphSearch(nodeNames, data, 'K2')\n",
    "print score\n",
    "bsl.writeFile_gph(nodeNames, graph)\n",
    "print bsl.isAcyclic(graph)\n",
    "\n",
    "bsl.solve_timed()\n",
    "bsl.exportGraph(graph, 'test.txt')"
   ]
  },
  {
   "cell_type": "code",
   "execution_count": 13,
   "metadata": {},
   "outputs": [
    {
     "ename": "NameError",
     "evalue": "name 'graph' is not defined",
     "output_type": "error",
     "traceback": [
      "\u001b[0;31m---------------------------------------------------------------------------\u001b[0m",
      "\u001b[0;31mNameError\u001b[0m                                 Traceback (most recent call last)",
      "\u001b[0;32m<ipython-input-13-f274878d815e>\u001b[0m in \u001b[0;36m<module>\u001b[0;34m()\u001b[0m\n\u001b[0;32m----> 1\u001b[0;31m \u001b[0;32mprint\u001b[0m \u001b[0mlist\u001b[0m\u001b[0;34m(\u001b[0m\u001b[0mgraph\u001b[0m\u001b[0;34m.\u001b[0m\u001b[0mnodes\u001b[0m\u001b[0;34m(\u001b[0m\u001b[0;34m)\u001b[0m\u001b[0;34m)\u001b[0m\u001b[0;34m\u001b[0m\u001b[0m\n\u001b[0m\u001b[1;32m      2\u001b[0m \u001b[0;32mprint\u001b[0m \u001b[0mnp\u001b[0m\u001b[0;34m.\u001b[0m\u001b[0mrandom\u001b[0m\u001b[0;34m.\u001b[0m\u001b[0mshuffle\u001b[0m\u001b[0;34m(\u001b[0m\u001b[0mnp\u001b[0m\u001b[0;34m.\u001b[0m\u001b[0marray\u001b[0m\u001b[0;34m(\u001b[0m\u001b[0;34m[\u001b[0m\u001b[0;36m0\u001b[0m\u001b[0;34m,\u001b[0m\u001b[0;36m1\u001b[0m\u001b[0;34m,\u001b[0m\u001b[0;36m2\u001b[0m\u001b[0;34m]\u001b[0m\u001b[0;34m)\u001b[0m\u001b[0;34m)\u001b[0m\u001b[0;34m\u001b[0m\u001b[0m\n",
      "\u001b[0;31mNameError\u001b[0m: name 'graph' is not defined"
     ]
    }
   ],
   "source": [
    "print list(graph.nodes())\n",
    "print np.random.shuffle(np.array([0,1,2]))"
   ]
  }
 ],
 "metadata": {
  "kernelspec": {
   "display_name": "Python 2",
   "language": "python",
   "name": "python2"
  },
  "language_info": {
   "codemirror_mode": {
    "name": "ipython",
    "version": 2
   },
   "file_extension": ".py",
   "mimetype": "text/x-python",
   "name": "python",
   "nbconvert_exporter": "python",
   "pygments_lexer": "ipython2",
   "version": "2.7.18"
  }
 },
 "nbformat": 4,
 "nbformat_minor": 2
}
