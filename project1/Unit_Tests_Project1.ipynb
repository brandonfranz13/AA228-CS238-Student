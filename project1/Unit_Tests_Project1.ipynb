{
 "cells": [
  {
   "cell_type": "code",
   "execution_count": null,
   "metadata": {},
   "outputs": [],
   "source": [
    "from Project1_BayesianStructureLearning import *"
   ]
  },
  {
   "cell_type": "code",
   "execution_count": null,
   "metadata": {},
   "outputs": [],
   "source": [
    "bsl = BayesianStructureLearning('example/example.csv', 'test.gph')\n",
    "bsl.solve()"
   ]
  },
  {
   "cell_type": "code",
   "execution_count": 1,
   "metadata": {},
   "outputs": [
    {
     "name": "stdout",
     "output_type": "stream",
     "text": [
      "-139.15898530029122\n",
      "-139.15898530029122\n"
     ]
    }
   ],
   "source": [
    "import networkx as nx\n",
    "import numpy as np\n",
    "from Project1_BayesianStructureLearning import *\n",
    "from scipy.special import loggamma\n",
    "\n",
    "g = nx.DiGraph()\n",
    "nodes = [0,1,2,3,4,5]\n",
    "g.add_nodes_from(nodes)\n",
    "edges = [(0,1), (2, 3), (4, 5)]\n",
    "g.add_edges_from(edges)\n",
    "\n",
    "bsl = BayesianStructureLearning('example/example.csv', 'test.gph')\n",
    "variableNames, data = bsl.importCSV()\n",
    "\n",
    "x = bsl.graphData(data, g)\n",
    "\n",
    "variables = list(g.nodes())\n",
    "score = 0\n",
    "alpha = np.ones_like(x)\n",
    "for var in variables:\n",
    "    p = np.sum(loggamma(alpha[var]+x[var]))\n",
    "    p -= np.sum(loggamma(alpha[var]))\n",
    "    p+= np.sum(loggamma(np.sum(alpha[var])))\n",
    "    p-= np.sum(loggamma(np.sum(alpha[var]) + np.sum(x[var])))\n",
    "    score += p\n",
    "\n",
    "print(score)\n",
    "\n",
    "score = bsl.scoreGraph(data, g)\n",
    "\n",
    "print(score)\n",
    "\n"
   ]
  },
  {
   "cell_type": "code",
   "execution_count": null,
   "metadata": {},
   "outputs": [],
   "source": [
    "print(x[0][0,0])"
   ]
  },
  {
   "cell_type": "code",
   "execution_count": null,
   "metadata": {},
   "outputs": [],
   "source": [
    "import networkx as nx\n",
    "import numpy as np\n",
    "\n",
    "g = nx.DiGraph()\n",
    "g.add_node(0)\n",
    "g.add_node(1)\n",
    "g.add_node(2)\n",
    "g.add_node(3)\n",
    "g.add_edge(0,3)\n",
    "g.add_edge(1,3)\n",
    "g.add_edge(2,3)\n",
    "variables = list(g.nodes())\n",
    "\n",
    "parents = [list(g.predecessors(var)) for var in variables]\n",
    "numValues = [2,2,2,3]\n",
    "q = [np.prod([numValues[parent] for parent in parents[var][:]]) for var in variables]\n",
    "print(variables)\n",
    "print(parents)\n",
    "print(q)"
   ]
  },
  {
   "cell_type": "code",
   "execution_count": null,
   "metadata": {},
   "outputs": [],
   "source": [
    "import pandas as pd\n",
    "\n",
    "pd.read_csv('example/example.csv').to_numpy()"
   ]
  },
  {
   "cell_type": "code",
   "execution_count": 1,
   "metadata": {},
   "outputs": [
    {
     "name": "stdout",
     "output_type": "stream",
     "text": [
      "-4166.225858784904\n"
     ]
    }
   ],
   "source": [
    "from Project1_BayesianStructureLearning import *\n",
    "\n",
    "bsl = BayesianStructureLearning('data/small.csv', 'test.gph')\n",
    "\n",
    "nodeNames, data = bsl.importCSV()\n",
    "\n",
    "graph = bsl.buildNoEdgeGraph(nodeNames)\n",
    "m = bsl.graphData(data, graph)\n",
    "score = bsl.scoreGraph(data, graph)\n",
    "print score"
   ]
  },
  {
   "cell_type": "code",
   "execution_count": 2,
   "metadata": {},
   "outputs": [],
   "source": [
    "del bsl"
   ]
  },
  {
   "cell_type": "code",
   "execution_count": null,
   "metadata": {},
   "outputs": [],
   "source": []
  }
 ],
 "metadata": {
  "kernelspec": {
   "display_name": "Python 2",
   "language": "python",
   "name": "python2"
  },
  "language_info": {
   "codemirror_mode": {
    "name": "ipython",
    "version": 2
   },
   "file_extension": ".py",
   "mimetype": "text/x-python",
   "name": "python",
   "nbconvert_exporter": "python",
   "pygments_lexer": "ipython2",
   "version": "2.7.18"
  }
 },
 "nbformat": 4,
 "nbformat_minor": 2
}
